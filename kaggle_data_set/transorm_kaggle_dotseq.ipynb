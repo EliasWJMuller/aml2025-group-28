{
 "cells": [
  {
   "cell_type": "code",
   "execution_count": 1,
   "metadata": {},
   "outputs": [],
   "source": [
    "import pandas as pd\n",
    "\n",
    "# Load your sequences data\n",
    "sequences_df = pd.read_csv(\"kaggledata/train_sequences.csv\")\n",
    "\n",
    "def create_dotseq_entry(row):\n",
    "    target_id = row['target_id']\n",
    "    sequence = row['sequence']\n",
    "    seq_length = len(sequence)\n",
    "\n",
    "\n",
    "    # Placeholder for the dot-bracket structure (all dots)\n",
    "    placeholder_structure_strand1 = '.' * seq_length\n",
    "\n",
    "    dotseq_content = f\">{target_id}\\n\"\n",
    "    dotseq_content += f\"{sequence} \\n\"\n",
    "    dotseq_content += f\"{placeholder_structure_strand1}\\n\"\n",
    "\n",
    "    return dotseq_content\n",
    "\n",
    "# Apply the function to each row to generate the .dotseq format\n",
    "dotseq_data = sequences_df.apply(create_dotseq_entry, axis=1)\n",
    "\n",
    "\n"
   ]
  },
  {
   "cell_type": "code",
   "execution_count": 2,
   "metadata": {},
   "outputs": [
    {
     "data": {
      "text/plain": [
       "0      >1SCL_A\\nGGGUGCUCAGUACGAGAGGAACCGCACCC \\n........\n",
       "1      >1RNK_A\\nGGCGCAGUGGGCUAGCGCCACUCAAAAGGCCCAU \\n...\n",
       "2      >1RHT_A\\nGGGACUGACGAUCACGCAGUCUAU \\n.............\n",
       "3      >1HLX_A\\nGGGAUAACUUCGGUUGUCCC \\n.................\n",
       "4      >1HMH_E\\nGGCGACCCUGAUGAGGCCGAAAGGCCGAAACCGU \\n...\n",
       "                             ...                        \n",
       "839    >8T3E_EC\\nAAACUCCAUGUAUUGGUUACCCAUCUGCAUCGAAAA...\n",
       "840    >8T3F_EC\\nAAACUCCAUGUAUUGGUUACCCAUCUGCAUCGAAAA...\n",
       "841    >8XCC_B\\nGUGCUGCUGUCUCCCAGACGGGAGGCAGAACUGCACC...\n",
       "842    >8Z1G_T\\nGGUAAAAUGGCUGAGUGAAGCAUUGGACUGUAAAUCU...\n",
       "843    >8Z1F_T\\nGGUAAAAUGGCUGAGUGAAGCAUUGGACUGUAAAUCU...\n",
       "Length: 844, dtype: object"
      ]
     },
     "execution_count": 2,
     "metadata": {},
     "output_type": "execute_result"
    }
   ],
   "source": [
    "dotseq_data"
   ]
  },
  {
   "cell_type": "code",
   "execution_count": 4,
   "metadata": {},
   "outputs": [
    {
     "name": "stdout",
     "output_type": "stream",
     "text": [
      "Generated .dotseq format for all sequences.\n"
     ]
    }
   ],
   "source": [
    "for index, dotseq_string in dotseq_data.items():\n",
    "    target_id = sequences_df.loc[index, 'target_id']\n",
    "    filename = f\"dotseqs/{target_id}.dotseq\"\n",
    "    with open(filename, \"w\") as f:\n",
    "        f.write(dotseq_string)\n",
    "\n",
    "print(\"Generated .dotseq format for all sequences.\")"
   ]
  },
  {
   "cell_type": "code",
   "execution_count": 5,
   "metadata": {},
   "outputs": [],
   "source": [
    "#function used to \n",
    "def read_dotseq_file(file_path):\n",
    "    with open(file_path, 'r') as f:\n",
    "        lines = f.readlines()\n",
    "    seq_segments = lines[1].strip().split()\n",
    "    dot = [l.replace(\" \", \"\").strip() for l in lines]\n",
    "    name = dot[0].replace(\">\", \"\").strip()\n",
    "    return name, dot[2], seq_segments"
   ]
  },
  {
   "cell_type": "code",
   "execution_count": 6,
   "metadata": {},
   "outputs": [
    {
     "data": {
      "text/plain": [
       "('1A1T_B', '....................', ['GGACUAGCGGAGGCUAGUCC'])"
      ]
     },
     "execution_count": 6,
     "metadata": {},
     "output_type": "execute_result"
    }
   ],
   "source": [
    "read_dotseq_file('dotseqs/1A1T_B.dotseq')"
   ]
  },
  {
   "cell_type": "code",
   "execution_count": null,
   "metadata": {},
   "outputs": [],
   "source": []
  }
 ],
 "metadata": {
  "kernelspec": {
   "display_name": "a2env",
   "language": "python",
   "name": "a2env"
  },
  "language_info": {
   "codemirror_mode": {
    "name": "ipython",
    "version": 3
   },
   "file_extension": ".py",
   "mimetype": "text/x-python",
   "name": "python",
   "nbconvert_exporter": "python",
   "pygments_lexer": "ipython3",
   "version": "3.11.5"
  }
 },
 "nbformat": 4,
 "nbformat_minor": 2
}
