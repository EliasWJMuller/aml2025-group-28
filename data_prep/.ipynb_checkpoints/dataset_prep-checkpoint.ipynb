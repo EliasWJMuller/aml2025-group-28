{
 "cells": [
  {
   "cell_type": "code",
   "execution_count": 26,
   "id": "acb9d630",
   "metadata": {},
   "outputs": [
    {
     "name": "stdout",
     "output_type": "stream",
     "text": [
      "Requirement already satisfied: pandas in /opt/homebrew/Caskroom/miniconda/base/lib/python3.12/site-packages (2.3.0)\n",
      "Requirement already satisfied: numpy>=1.26.0 in /opt/homebrew/Caskroom/miniconda/base/lib/python3.12/site-packages (from pandas) (2.3.1)\n",
      "Requirement already satisfied: python-dateutil>=2.8.2 in /opt/homebrew/Caskroom/miniconda/base/lib/python3.12/site-packages (from pandas) (2.9.0.post0)\n",
      "Requirement already satisfied: pytz>=2020.1 in /opt/homebrew/Caskroom/miniconda/base/lib/python3.12/site-packages (from pandas) (2025.2)\n",
      "Requirement already satisfied: tzdata>=2022.7 in /opt/homebrew/Caskroom/miniconda/base/lib/python3.12/site-packages (from pandas) (2025.2)\n",
      "Requirement already satisfied: six>=1.5 in /opt/homebrew/Caskroom/miniconda/base/lib/python3.12/site-packages (from python-dateutil>=2.8.2->pandas) (1.17.0)\n",
      "Note: you may need to restart the kernel to use updated packages.\n"
     ]
    }
   ],
   "source": [
    "%pip install pandas\n",
    "import pandas as pd"
   ]
  },
  {
   "cell_type": "code",
   "execution_count": null,
   "id": "a85d7165",
   "metadata": {},
   "outputs": [
    {
     "data": {
      "text/plain": [
       "(85, 84)"
      ]
     },
     "execution_count": 27,
     "metadata": {},
     "output_type": "execute_result"
    }
   ],
   "source": [
    "train_df = pd.read_csv('~/stanford-rna-3d-folding/train_sequences.csv')\n",
    "\n",
    "# randomly take 20% of the full train_sequences data, use 10% for training and 10% for testing\n",
    "train_df = train_df.sample(frac=0.25, random_state=42)\n",
    "train_df = train_df.reset_index(drop=True)\n",
    "test_df = train_df.sample(frac=0.5, random_state=42)\n",
    "train_df = train_df.drop(test_df.index)\n",
    "len(train_df), len(test_df)"
   ]
  },
  {
   "cell_type": "code",
   "execution_count": 28,
   "id": "a5bfedb7",
   "metadata": {},
   "outputs": [],
   "source": [
    "# make two cif directories, sample the relevant files from the full cif directory\n",
    "# this allows us to later use the preprocessing script to generate the datasets\n",
    "import os\n",
    "import shutil\n",
    "base_dir = os.path.join('/Users/diyartaskiran/stanford-rna-3d-folding/')\n",
    "assert os.path.exists(os.path.join(base_dir, 'cifs'))\n",
    "os.makedirs(os.path.join(base_dir, 'train_cif'), exist_ok=True)\n",
    "os.makedirs(os.path.join(base_dir, 'test_cif'), exist_ok=True)"
   ]
  },
  {
   "cell_type": "code",
   "execution_count": 42,
   "id": "dc3fd170",
   "metadata": {},
   "outputs": [
    {
     "name": "stderr",
     "output_type": "stream",
     "text": [
      "42it [00:00, 408.10it/s]"
     ]
    },
    {
     "name": "stdout",
     "output_type": "stream",
     "text": [
      "1 2AGN_A\n",
      "3 8C8X_B\n",
      "5 2DU4_C\n",
      "7 1F9L_A\n",
      "8 4X4S_B\n",
      "13 4A4T_A\n",
      "14 5V6X_C\n",
      "17 2JPP_C\n",
      "20 2L3J_B\n",
      "21 1KKA_A\n",
      "33 8BU8_A\n",
      "34 8BWT_A\n",
      "35 1N8X_A\n",
      "37 3PHP_A\n",
      "39 7DD4_A\n",
      "43 2KZL_A\n",
      "46 7PTS_A\n",
      "47 2NC1_A\n",
      "48 1KIS_A\n",
      "49 8Z1G_T\n",
      "50 4V4G_CA\n",
      "52 1K4B_A\n",
      "53 3J3W_A\n",
      "54 8XCA_B\n",
      "57 3WC2_Q\n",
      "58 2NR0_G\n",
      "59 8EWG_B\n",
      "61 8QO4_A\n",
      "62 5N5C_A\n",
      "63 6DU5_B\n",
      "File not found for 6DU5_B, skipping...\n",
      "70 8UYL_A\n",
      "71 4V4V_B0\n",
      "72 2KHY_A\n",
      "73 2LJJ_A\n",
      "74 8UYJ_A\n",
      "77 5V93_a\n",
      "79 2JR4_A\n",
      "80 2FEY_A\n",
      "83 1AUD_B\n",
      "84 6VZC_A\n",
      "86 3IZZ_E\n",
      "87 8EVQ_EC\n",
      "88 6AWD_A\n",
      "89 7UMD_A\n",
      "91 1F85_A\n",
      "92 1FQZ_A\n",
      "94 5V17_A\n",
      "99 5Y36_B\n",
      "102 3DKN_E\n",
      "103 3IYR_A\n",
      "104 1XWP_A\n",
      "106 2KVN_A\n",
      "107 2OM7_A\n",
      "110 1RNG_A\n",
      "112 8OMR_C\n",
      "113 8K8B_A\n",
      "116 6OF6_XW\n",
      "121 7X34_3\n",
      "122 8WT7_F\n",
      "124 7S3H_R\n",
      "128 1ANR_A\n",
      "129 7DLZ_Y\n",
      "130 2HUA_A\n",
      "131 8C98_A\n",
      "134 2IY3_B\n",
      "139 7D8C_B\n",
      "140 1FHK_A\n",
      "141 8H69_5\n",
      "144 6K0B_U\n",
      "147 8KAG_A\n",
      "148 7RQ5_A\n",
      "149 4V5Z_BH\n",
      "151 2DR2_B\n",
      "152 2B6G_B\n",
      "154 1KAJ_A\n",
      "155 7LJY_B\n",
      "156 1WKS_A\n",
      "158 1JWC_A\n",
      "159 4V4N_B1\n"
     ]
    },
    {
     "name": "stderr",
     "output_type": "stream",
     "text": [
      "85it [00:00, 389.64it/s]\n"
     ]
    },
    {
     "name": "stdout",
     "output_type": "stream",
     "text": [
      "161 3LWQ_D\n",
      "163 1RHT_A\n",
      "164 2LA5_A\n",
      "166 8SA6_A\n",
      "167 2F4X_B\n",
      "168 8QO5_A\n"
     ]
    },
    {
     "name": "stderr",
     "output_type": "stream",
     "text": [
      "38it [00:00, 351.65it/s]"
     ]
    },
    {
     "name": "stdout",
     "output_type": "stream",
     "text": [
      "138 8IDF_B\n",
      "30 6RR7_D\n",
      "119 1E4P_A\n",
      "29 3DKN_D\n",
      "143 5UZT_A\n",
      "162 4QIL_C\n",
      "165 4V65_BB\n",
      "51 2ZJQ_Y\n",
      "105 7B9V_2\n",
      "60 1G70_A\n",
      "15 2HEM_A\n",
      "157 2KPC_A\n",
      "133 8WT8_F\n",
      "45 2OM3_R\n",
      "68 8E29_B\n",
      "85 7OBQ_1\n",
      "24 2AKE_B\n",
      "109 2A64_A\n",
      "75 2BJ2_B\n",
      "108 6LTP_H\n",
      "19 6FLQ_R\n",
      "16 8KAI_I\n",
      "31 2RPT_A\n",
      "18 5ELS_I\n",
      "12 8UBE_I\n",
      "9 1UUU_A\n",
      "82 1A4T_A\n",
      "98 6KUT_V\n",
      "76 7S4U_B\n",
      "55 8SFI_B\n",
      "42 2LUN_A\n",
      "56 2N6S_A\n",
      "153 2IHX_B\n",
      "111 1BAU_B\n",
      "69 8T3F_EC\n",
      "137 2LBJ_A\n",
      "2 6WLS_A\n",
      "93 2N3O_B\n",
      "135 1ATW_A\n",
      "150 5XJ2_G\n",
      "90 1QZC_B\n",
      "114 2IL9_A\n",
      "26 6WLM_A\n",
      "145 4KR6_D\n",
      "136 8QO3_A\n",
      "97 2GIP_A\n",
      "65 1EUQ_B\n",
      "36 1ZC8_G\n",
      "126 4TUA_XY\n",
      "22 1FFK_9\n",
      "101 4V7E_Ac\n",
      "160 4V5Z_BC\n",
      "96 6WLO_A\n"
     ]
    },
    {
     "name": "stderr",
     "output_type": "stream",
     "text": [
      "84it [00:00, 296.59it/s]"
     ]
    },
    {
     "name": "stdout",
     "output_type": "stream",
     "text": [
      "11 2IZ8_S\n",
      "67 8G1I_B\n",
      "132 1NA2_A\n",
      "6 8JTR_B\n",
      "27 3AKZ_H\n",
      "78 3EP2_B\n",
      "146 8DC2_B\n",
      "38 8OPS_C\n",
      "41 1HWQ_A\n",
      "4 1D0U_A\n",
      "142 2KUU_A\n",
      "32 1MFY_A\n",
      "66 7UGA_A\n",
      "127 1I46_A\n",
      "95 6ZDU_C\n",
      "10 4A4U_A\n",
      "100 2G1W_A\n",
      "115 2N2P_A\n",
      "0 4YVJ_C\n",
      "125 4V7E_Ae\n",
      "117 1K4A_A\n",
      "64 6IV6_G\n",
      "44 8SFO_B\n",
      "120 5V16_A\n",
      "28 2MFC_B\n",
      "40 1R2W_C\n",
      "118 7LYS_B\n",
      "25 3TUP_T\n",
      "23 3WC1_Q\n",
      "123 3HAY_E\n",
      "81 8T3E_EC\n"
     ]
    },
    {
     "name": "stderr",
     "output_type": "stream",
     "text": [
      "\n"
     ]
    }
   ],
   "source": [
    "from tqdm import tqdm\n",
    "\n",
    "for i, row in tqdm(train_df.iterrows()):\n",
    "    print(i, row['target_id'])\n",
    "    # copy the cif file to the train_cif directory\n",
    "    try:\n",
    "        shutil.copy(os.path.join(base_dir, 'cifs', (row['target_id']).lower().split('_')[0] + '.cif'), os.path.join(base_dir, 'train_cif'))\n",
    "    except FileNotFoundError:\n",
    "        print(f\"File not found for {row['target_id']}, skipping...\")\n",
    "\n",
    "for i, row in tqdm(test_df.iterrows()):\n",
    "    print(i, row['target_id'])\n",
    "    # copy the cif file to the test_cif directory\n",
    "    shutil.copy(os.path.join(base_dir, 'cifs', (row['target_id']).lower().split('_')[0] + '.cif'), os.path.join(base_dir, 'test_cif'))"
   ]
  },
  {
   "cell_type": "code",
   "execution_count": null,
   "id": "231ea7ba",
   "metadata": {},
   "outputs": [],
   "source": []
  }
 ],
 "metadata": {
  "kernelspec": {
   "display_name": "base",
   "language": "python",
   "name": "python3"
  },
  "language_info": {
   "codemirror_mode": {
    "name": "ipython",
    "version": 3
   },
   "file_extension": ".py",
   "mimetype": "text/x-python",
   "name": "python",
   "nbconvert_exporter": "python",
   "pygments_lexer": "ipython3",
   "version": "3.12.9"
  }
 },
 "nbformat": 4,
 "nbformat_minor": 5
}
